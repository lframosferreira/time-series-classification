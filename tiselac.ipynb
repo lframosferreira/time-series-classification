{
 "cells": [
  {
   "cell_type": "code",
   "execution_count": 2,
   "metadata": {},
   "outputs": [],
   "source": [
    "import polars as pl\n",
    "import pandas as pd\n",
    "import numpy as np\n",
    "import scipy\n",
    "import ts2vg\n",
    "import matplotlib.pyplot as plt\n",
    "from diversity_measure import *"
   ]
  },
  {
   "cell_type": "code",
   "execution_count": 4,
   "metadata": {},
   "outputs": [
    {
     "data": {
      "text/plain": [
       "81714"
      ]
     },
     "execution_count": 4,
     "metadata": {},
     "output_type": "execute_result"
    }
   ],
   "source": [
    "data: np.array = scipy.io.arff.loadarff(\"data/Tiselac/Tiselac_TRAIN.arff\")"
   ]
  },
  {
   "cell_type": "code",
   "execution_count": 14,
   "metadata": {},
   "outputs": [],
   "source": [
    "df = pd.DataFrame(columns=[\"id\", \"label\"])\n",
    "for i in range(3):\n",
    "    aux = pd.Series([i, data[0][i][1]])\n",
    "    df = pd.concat([df, aux])\n",
    "df.to_csv(\"teste.csv\")"
   ]
  },
  {
   "cell_type": "code",
   "execution_count": null,
   "metadata": {},
   "outputs": [],
   "source": [
    "data = data[0][0:50]"
   ]
  },
  {
   "cell_type": "code",
   "execution_count": null,
   "metadata": {},
   "outputs": [
    {
     "name": "stdout",
     "output_type": "stream",
     "text": [
      "(23, 23)\n"
     ]
    }
   ],
   "source": [
    "visibility_graphs: np.array = np.zeros((10, 10, 23, 23))\n",
    "for i in range in range(len(data)):\n",
    "    time_series_set, label = data[i]\n",
    "    for j in range(len(time_series_set)):\n",
    "        graph: np.array = ts2vg.NaturalVG().build(time_series_set[j].tolist()).adjacency_matrix()\n",
    "        node_dist: np.array = node_distribution(graph)\n",
    "        node_distributions.append(node_dist)\n",
    "        trans_mat: np.array = transition_matrix(graph)\n",
    "        transition_matrices.append(trans_mat)\n",
    "    less_contribute_list: np.array = less_contribute(node_distributions, transition_matrices)\n",
    "    print(less_contribute_list)"
   ]
  }
 ],
 "metadata": {
  "kernelspec": {
   "display_name": "mestrado",
   "language": "python",
   "name": "python3"
  },
  "language_info": {
   "codemirror_mode": {
    "name": "ipython",
    "version": 3
   },
   "file_extension": ".py",
   "mimetype": "text/x-python",
   "name": "python",
   "nbconvert_exporter": "python",
   "pygments_lexer": "ipython3",
   "version": "3.11.3"
  },
  "orig_nbformat": 4
 },
 "nbformat": 4,
 "nbformat_minor": 2
}
