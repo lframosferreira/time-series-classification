{
 "cells": [
  {
   "cell_type": "code",
   "execution_count": 2,
   "metadata": {},
   "outputs": [],
   "source": [
    "import numpy as np\n",
    "import scipy\n",
    "import h5sparse\n",
    "\n",
    "NUMBER_OF_EXAMPLES: int = 81714"
   ]
  },
  {
   "cell_type": "code",
   "execution_count": 54,
   "metadata": {},
   "outputs": [
    {
     "data": {
      "text/plain": [
       "array([[15880,  7724,  7392,  7421,  7097,  7203,  7742,  6983, 14272,\n",
       "            0],\n",
       "       [13574, 15772, 10023,  8799,  7614,  6390,  5537,  4236,  9759,\n",
       "           10],\n",
       "       [10387, 11323, 14706, 10398,  9987,  8611,  6039,  3740,  6419,\n",
       "          104],\n",
       "       [ 9293, 10499, 11280, 14091, 10493,  8883,  5937,  3106,  7945,\n",
       "          187],\n",
       "       [ 6417,  6353,  6780,  7745, 11093, 10331, 12009, 11147,  8182,\n",
       "         1657],\n",
       "       [ 8638, 10025, 10267, 10249, 10661, 11824,  8385,  6222,  4108,\n",
       "         1335],\n",
       "       [ 6621,  8244,  8947,  9670, 10118, 10551, 11752,  8076,  5949,\n",
       "         1786],\n",
       "       [  260,   429,   705,  1043,  1664,  2637,  5722, 13668, 21162,\n",
       "        34424],\n",
       "       [ 1376,  2019,  2606,  3225,  4126,  5847,  8966, 15882,  3918,\n",
       "        33749],\n",
       "       [ 9268,  9326,  9008,  9073,  8861,  9437,  9625,  8654,     0,\n",
       "         8462]])"
      ]
     },
     "execution_count": 54,
     "metadata": {},
     "output_type": "execute_result"
    }
   ],
   "source": [
    "ranking: np.array = np.zeros((10, 10), dtype=np.int_)\n",
    "range_10: np.array = np.arange(10)\n",
    "with h5sparse.File(\"./tiselac.hdf5\", \"r\") as f:\n",
    "    less_contribute_lists = f[\"diversity_rank\"]\n",
    "    for i in range(len(less_contribute_lists)):\n",
    "        ranking[less_contribute_lists[str(i)][()], range_10] += 1\n",
    "ranking.tolist()\n"
   ]
  },
  {
   "cell_type": "code",
   "execution_count": 71,
   "metadata": {},
   "outputs": [
    {
     "data": {
      "text/plain": [
       "[[0.19, 0.09, 0.09, 0.09, 0.09, 0.09, 0.09, 0.09, 0.17, 0.00],\n",
       " [0.17, 0.19, 0.12, 0.11, 0.09, 0.08, 0.07, 0.05, 0.12, 0.00],\n",
       " [0.13, 0.14, 0.18, 0.13, 0.12, 0.11, 0.07, 0.05, 0.08, 0.00],\n",
       " [0.11, 0.13, 0.14, 0.17, 0.13, 0.11, 0.07, 0.04, 0.10, 0.00],\n",
       " [0.08, 0.08, 0.08, 0.09, 0.14, 0.13, 0.15, 0.14, 0.10, 0.02],\n",
       " [0.11, 0.12, 0.13, 0.13, 0.13, 0.14, 0.10, 0.08, 0.05, 0.02],\n",
       " [0.08, 0.10, 0.11, 0.12, 0.12, 0.13, 0.14, 0.10, 0.07, 0.02],\n",
       " [0.00, 0.01, 0.01, 0.01, 0.02, 0.03, 0.07, 0.17, 0.26, 0.42],\n",
       " [0.02, 0.02, 0.03, 0.04, 0.05, 0.07, 0.11, 0.19, 0.05, 0.41],\n",
       " [0.11, 0.11, 0.11, 0.11, 0.11, 0.12, 0.12, 0.11, 0.00, 0.10]]"
      ]
     },
     "execution_count": 71,
     "metadata": {},
     "output_type": "execute_result"
    }
   ],
   "source": [
    "(ranking / NUMBER_OF_EXAMPLES).tolist()"
   ]
  },
  {
   "attachments": {},
   "cell_type": "markdown",
   "metadata": {},
   "source": [
    "Série 7: apareceu como a que mais contribui mais vezes e como a que menso contribui menos vezes\n",
    "Série 8: outra boa opção\n",
    "\n",
    "Outra opção seria Série 7 e série 0"
   ]
  }
 ],
 "metadata": {
  "kernelspec": {
   "display_name": "mestrado",
   "language": "python",
   "name": "python3"
  },
  "language_info": {
   "codemirror_mode": {
    "name": "ipython",
    "version": 3
   },
   "file_extension": ".py",
   "mimetype": "text/x-python",
   "name": "python",
   "nbconvert_exporter": "python",
   "pygments_lexer": "ipython3",
   "version": "3.11.3"
  },
  "orig_nbformat": 4
 },
 "nbformat": 4,
 "nbformat_minor": 2
}
