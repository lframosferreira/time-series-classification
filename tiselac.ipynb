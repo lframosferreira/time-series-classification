{
 "cells": [
  {
   "cell_type": "code",
   "execution_count": 12,
   "metadata": {},
   "outputs": [],
   "source": [
    "import polars as pl\n",
    "import pandas as pd\n",
    "import numpy as np\n",
    "import scipy\n",
    "import ts2vg\n",
    "import matplotlib.pyplot as plt\n",
    "\n",
    "from diversity_measure import *"
   ]
  },
  {
   "cell_type": "code",
   "execution_count": 13,
   "metadata": {},
   "outputs": [],
   "source": [
    "data: np.array = scipy.io.arff.loadarff(\"data/Tiselac/Tiselac_TRAIN.arff\")"
   ]
  },
  {
   "cell_type": "code",
   "execution_count": 14,
   "metadata": {},
   "outputs": [
    {
     "data": {
      "text/plain": [
       "' df = pd.DataFrame(columns=[\"id\", \"label\"])\\nfor i in range(3):\\n    aux = pd.Series([i, data[0][i][1]])\\n    df = pd.concat([df, aux])\\ndf.to_csv(\"teste.csv\") '"
      ]
     },
     "execution_count": 14,
     "metadata": {},
     "output_type": "execute_result"
    }
   ],
   "source": [
    "\"\"\" df = pd.DataFrame(columns=[\"id\", \"label\"])\n",
    "for i in range(3):\n",
    "    aux = pd.Series([i, data[0][i][1]])\n",
    "    df = pd.concat([df, aux])\n",
    "df.to_csv(\"teste.csv\") \"\"\""
   ]
  },
  {
   "cell_type": "code",
   "execution_count": 15,
   "metadata": {},
   "outputs": [],
   "source": [
    "data = data[0][0:20]"
   ]
  },
  {
   "cell_type": "code",
   "execution_count": 16,
   "metadata": {},
   "outputs": [
    {
     "name": "stdout",
     "output_type": "stream",
     "text": [
      "[3 1 6 0 9 2 5 7 4 8]\n",
      "[2 0 5 1 3 8 4 9 6 7]\n",
      "[7 9 1 0 3 6 8 4 2 5]\n",
      "[1 5 6 3 2 0 9 4 7 8]\n",
      "[0 5 1 4 6 3 2 8 7 9]\n",
      "[2 1 4 0 6 9 7 5 3 8]\n",
      "[1 2 3 0 9 6 4 8 5 7]\n",
      "[0 1 2 4 3 9 6 7 5 8]\n",
      "[2 6 3 1 5 0 8 7 4 9]\n",
      "[0 5 2 4 9 3 8 6 1 7]\n",
      "[0 1 4 6 9 5 2 7 3 8]\n",
      "[2 4 1 3 9 6 0 5 7 8]\n",
      "[5 3 9 4 0 1 2 8 6 7]\n",
      "[1 0 6 2 5 4 9 8 3 7]\n",
      "[2 6 3 0 8 9 5 7 1 4]\n",
      "[5 3 1 6 9 2 0 4 7 8]\n",
      "[2 1 5 0 3 9 8 6 4 7]\n",
      "[0 3 9 1 2 6 7 8 4 5]\n",
      "[4 5 6 1 9 0 2 8 3 7]\n",
      "[5 1 4 9 3 2 6 0 7 8]\n"
     ]
    }
   ],
   "source": [
    "visibility_graphs: np.array = np.zeros((10, 10, 23, 23))\n",
    "for i in range(len(data)):\n",
    "    node_distributions: list = []\n",
    "    transition_matrices: list = []\n",
    "    time_series_set, label = data[i]\n",
    "    for j in range(len(time_series_set)):\n",
    "        graph: np.array = ts2vg.NaturalVG().build(time_series_set[j].tolist()).adjacency_matrix()\n",
    "        node_dist: np.array = node_distribution(graph)\n",
    "        node_distributions.append(node_dist)\n",
    "        trans_mat: np.array = transition_matrix(graph)\n",
    "        transition_matrices.append(trans_mat)\n",
    "    less_contribute_list: np.array = less_contribute(node_distributions, transition_matrices)\n",
    "    print(less_contribute_list)\n"
   ]
  }
 ],
 "metadata": {
  "kernelspec": {
   "display_name": "mestrado",
   "language": "python",
   "name": "python3"
  },
  "language_info": {
   "codemirror_mode": {
    "name": "ipython",
    "version": 3
   },
   "file_extension": ".py",
   "mimetype": "text/x-python",
   "name": "python",
   "nbconvert_exporter": "python",
   "pygments_lexer": "ipython3",
   "version": "3.11.3"
  },
  "orig_nbformat": 4
 },
 "nbformat": 4,
 "nbformat_minor": 2
}
