{
 "cells": [
  {
   "cell_type": "code",
   "execution_count": 28,
   "metadata": {},
   "outputs": [],
   "source": [
    "import numpy as np\n",
    "import scipy\n",
    "import h5sparse\n",
    "\n",
    "NUMBER_OF_EXAMPLES: int = 2459"
   ]
  },
  {
   "cell_type": "code",
   "execution_count": 29,
   "metadata": {},
   "outputs": [
    {
     "data": {
      "text/plain": [
       "[[0.07035, 0.07605, 0.10655, 0.13257, 0.61448, 0.0],\n",
       " [0.12037, 0.11915, 0.16958, 0.20903, 0.24319, 0.13867],\n",
       " [0.23587, 0.19479, 0.1464, 0.13867, 0.08011, 0.20415],\n",
       " [0.26596, 0.19927, 0.16348, 0.12037, 0.04758, 0.20333],\n",
       " [0.17324, 0.24441, 0.2135, 0.1464, 0.01464, 0.20781],\n",
       " [0.1342, 0.16633, 0.20049, 0.25295, 0.0, 0.24603]]"
      ]
     },
     "execution_count": 29,
     "metadata": {},
     "output_type": "execute_result"
    }
   ],
   "source": [
    "ranking: np.array = np.zeros((6, 6), dtype=np.int_)\n",
    "range_6: np.array = np.arange(6)\n",
    "with h5sparse.File(\"./LSST.hdf5\", \"r\") as f:\n",
    "    less_contribute_lists = f[\"diversity_rank\"]\n",
    "    for i in range(len(less_contribute_lists)):\n",
    "        ranking[less_contribute_lists[str(i)][()], range_6] += 1\n",
    "(np.round(ranking / NUMBER_OF_EXAMPLES, 5)).tolist()"
   ]
  }
 ],
 "metadata": {
  "kernelspec": {
   "display_name": "time-series-classification",
   "language": "python",
   "name": "python3"
  },
  "language_info": {
   "codemirror_mode": {
    "name": "ipython",
    "version": 3
   },
   "file_extension": ".py",
   "mimetype": "text/x-python",
   "name": "python",
   "nbconvert_exporter": "python",
   "pygments_lexer": "ipython3",
   "version": "3.11.3"
  },
  "orig_nbformat": 4
 },
 "nbformat": 4,
 "nbformat_minor": 2
}
