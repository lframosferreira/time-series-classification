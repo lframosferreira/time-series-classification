{
 "cells": [
  {
   "cell_type": "code",
   "execution_count": 1,
   "metadata": {},
   "outputs": [],
   "source": [
    "import numpy as np\n",
    "import scipy\n",
    "import h5sparse\n",
    "\n",
    "NUMBER_OF_EXAMPLES: int = 5890\n",
    "NUMBER_OF_DIMENSIONS: int = 144"
   ]
  },
  {
   "cell_type": "code",
   "execution_count": 7,
   "metadata": {},
   "outputs": [
    {
     "name": "stdout",
     "output_type": "stream",
     "text": [
      "0.05025\n"
     ]
    }
   ],
   "source": [
    "with h5sparse.File(\"FD.hdf5\", \"a\") as f:\n",
    "    m = np.array(f[\"res\"])\n",
    "    k = [i[143] for i in m]\n",
    "    print(k[68])"
   ]
  }
 ],
 "metadata": {
  "kernelspec": {
   "display_name": "time-series-classification",
   "language": "python",
   "name": "python3"
  },
  "language_info": {
   "codemirror_mode": {
    "name": "ipython",
    "version": 3
   },
   "file_extension": ".py",
   "mimetype": "text/x-python",
   "name": "python",
   "nbconvert_exporter": "python",
   "pygments_lexer": "ipython3",
   "version": "3.11.3"
  },
  "orig_nbformat": 4
 },
 "nbformat": 4,
 "nbformat_minor": 2
}
