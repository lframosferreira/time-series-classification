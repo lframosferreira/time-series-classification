{
 "cells": [
  {
   "cell_type": "code",
   "execution_count": 5,
   "metadata": {},
   "outputs": [],
   "source": [
    "import numpy as np\n",
    "import scipy\n",
    "import h5sparse\n",
    "\n",
    "NUMBER_OF_EXAMPLES: int = 3315"
   ]
  },
  {
   "cell_type": "code",
   "execution_count": 11,
   "metadata": {},
   "outputs": [
    {
     "data": {
      "text/plain": [
       "[[0.41, 0.0, 0.0, 0.0, 0.0, 0.0, 0.01, 0.02, 0.05, 0.5, 0.0],\n",
       " [0.27, 0.34, 0.0, 0.0, 0.01, 0.01, 0.02, 0.04, 0.09, 0.11, 0.11],\n",
       " [0.13, 0.28, 0.32, 0.01, 0.01, 0.01, 0.03, 0.05, 0.05, 0.04, 0.07],\n",
       " [0.06, 0.16, 0.28, 0.31, 0.02, 0.02, 0.02, 0.04, 0.04, 0.03, 0.03],\n",
       " [0.03, 0.07, 0.17, 0.28, 0.3, 0.02, 0.03, 0.02, 0.03, 0.02, 0.03],\n",
       " [0.02, 0.05, 0.09, 0.17, 0.28, 0.3, 0.02, 0.02, 0.02, 0.01, 0.02],\n",
       " [0.02, 0.03, 0.06, 0.09, 0.18, 0.28, 0.28, 0.01, 0.02, 0.01, 0.02],\n",
       " [0.01, 0.02, 0.03, 0.06, 0.09, 0.17, 0.27, 0.28, 0.02, 0.01, 0.02],\n",
       " [0.01, 0.02, 0.03, 0.03, 0.06, 0.09, 0.18, 0.27, 0.27, 0.01, 0.02],\n",
       " [0.01, 0.02, 0.02, 0.03, 0.04, 0.05, 0.09, 0.18, 0.27, 0.26, 0.04],\n",
       " [0.01, 0.01, 0.01, 0.02, 0.02, 0.03, 0.05, 0.08, 0.14, 0.0, 0.64]]"
      ]
     },
     "execution_count": 11,
     "metadata": {},
     "output_type": "execute_result"
    }
   ],
   "source": [
    "import h5sparse\n",
    "import numpy as np\n",
    "ranking: np.array = np.zeros((11, 11), dtype=np.int_)\n",
    "range_11: np.array = np.arange(11)\n",
    "with h5sparse.File(\"../../PhonemeSpectra.hdf5\", \"r\") as f:\n",
    "    less_contribute_lists = f[\"diversity_rank\"]\n",
    "    for i in range(len(less_contribute_lists)):\n",
    "        ranking[less_contribute_lists[str(i)][()], range_11] += 1\n",
    "k = (np.round(ranking / NUMBER_OF_EXAMPLES, 2)).tolist()\n",
    "k"
   ]
  },
  {
   "cell_type": "code",
   "execution_count": 18,
   "metadata": {},
   "outputs": [],
   "source": [
    "\n",
    "train_data_path: str = \"/scratch/luisfeliperamos/time-series-classification/data/PhonemeSpectra/PhonemeSpectra_TRAIN.arff\"\n",
    "train_data: np.array = scipy.io.arff.loadarff(f\"{train_data_path}\")\n",
    "train_data = train_data[0]\n",
    "\n",
    "X_train = np.array([np.array(e[0]) for e in train_data])\n",
    "X_train = np.array(X_train.tolist(), dtype=np.float_)\n"
   ]
  },
  {
   "cell_type": "code",
   "execution_count": 31,
   "metadata": {},
   "outputs": [
    {
     "data": {
      "text/plain": [
       "b'AO'"
      ]
     },
     "execution_count": 31,
     "metadata": {},
     "output_type": "execute_result"
    }
   ],
   "source": [
    "train_data[334][1]"
   ]
  }
 ],
 "metadata": {
  "kernelspec": {
   "display_name": "mestrado",
   "language": "python",
   "name": "python3"
  },
  "language_info": {
   "codemirror_mode": {
    "name": "ipython",
    "version": 3
   },
   "file_extension": ".py",
   "mimetype": "text/x-python",
   "name": "python",
   "nbconvert_exporter": "python",
   "pygments_lexer": "ipython3",
   "version": "3.11.3"
  },
  "orig_nbformat": 4
 },
 "nbformat": 4,
 "nbformat_minor": 2
}
