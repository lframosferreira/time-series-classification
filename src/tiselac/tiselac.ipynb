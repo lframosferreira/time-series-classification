{
 "cells": [
  {
   "cell_type": "code",
   "execution_count": 3,
   "metadata": {},
   "outputs": [],
   "source": [
    "import numpy as np\n",
    "import scipy\n",
    "\n",
    "\n",
    "NUMBER_OF_EXAMPLES: int = 81714"
   ]
  },
  {
   "cell_type": "code",
   "execution_count": 54,
   "metadata": {},
   "outputs": [
    {
     "data": {
      "text/plain": [
       "array([[15880,  7724,  7392,  7421,  7097,  7203,  7742,  6983, 14272,\n",
       "            0],\n",
       "       [13574, 15772, 10023,  8799,  7614,  6390,  5537,  4236,  9759,\n",
       "           10],\n",
       "       [10387, 11323, 14706, 10398,  9987,  8611,  6039,  3740,  6419,\n",
       "          104],\n",
       "       [ 9293, 10499, 11280, 14091, 10493,  8883,  5937,  3106,  7945,\n",
       "          187],\n",
       "       [ 6417,  6353,  6780,  7745, 11093, 10331, 12009, 11147,  8182,\n",
       "         1657],\n",
       "       [ 8638, 10025, 10267, 10249, 10661, 11824,  8385,  6222,  4108,\n",
       "         1335],\n",
       "       [ 6621,  8244,  8947,  9670, 10118, 10551, 11752,  8076,  5949,\n",
       "         1786],\n",
       "       [  260,   429,   705,  1043,  1664,  2637,  5722, 13668, 21162,\n",
       "        34424],\n",
       "       [ 1376,  2019,  2606,  3225,  4126,  5847,  8966, 15882,  3918,\n",
       "        33749],\n",
       "       [ 9268,  9326,  9008,  9073,  8861,  9437,  9625,  8654,     0,\n",
       "         8462]])"
      ]
     },
     "execution_count": 54,
     "metadata": {},
     "output_type": "execute_result"
    }
   ],
   "source": [
    "ranking: np.array = np.zeros((10, 10), dtype=np.int_)\n",
    "range_10: np.array = np.arange(10)\n",
    "with h5sparse.File(\"./tiselac.hdf5\", \"r\") as f:\n",
    "    less_contribute_lists = f[\"diversity_rank\"]\n",
    "    for i in range(len(less_contribute_lists)):\n",
    "        ranking[less_contribute_lists[str(i)][()], range_10] += 1\n",
    "ranking.tolist()\n"
   ]
  },
  {
   "cell_type": "code",
   "execution_count": 71,
   "metadata": {},
   "outputs": [
    {
     "data": {
      "text/plain": [
       "[[0.19, 0.09, 0.09, 0.09, 0.09, 0.09, 0.09, 0.09, 0.17, 0.00],\n",
       " [0.17, 0.19, 0.12, 0.11, 0.09, 0.08, 0.07, 0.05, 0.12, 0.00],\n",
       " [0.13, 0.14, 0.18, 0.13, 0.12, 0.11, 0.07, 0.05, 0.08, 0.00],\n",
       " [0.11, 0.13, 0.14, 0.17, 0.13, 0.11, 0.07, 0.04, 0.10, 0.00],\n",
       " [0.08, 0.08, 0.08, 0.09, 0.14, 0.13, 0.15, 0.14, 0.10, 0.02],\n",
       " [0.11, 0.12, 0.13, 0.13, 0.13, 0.14, 0.10, 0.08, 0.05, 0.02],\n",
       " [0.08, 0.10, 0.11, 0.12, 0.12, 0.13, 0.14, 0.10, 0.07, 0.02],\n",
       " [0.00, 0.01, 0.01, 0.01, 0.02, 0.03, 0.07, 0.17, 0.26, 0.42],\n",
       " [0.02, 0.02, 0.03, 0.04, 0.05, 0.07, 0.11, 0.19, 0.05, 0.41],\n",
       " [0.11, 0.11, 0.11, 0.11, 0.11, 0.12, 0.12, 0.11, 0.00, 0.10]]"
      ]
     },
     "execution_count": 71,
     "metadata": {},
     "output_type": "execute_result"
    }
   ],
   "source": [
    "(ranking / NUMBER_OF_EXAMPLES).tolist()"
   ]
  },
  {
   "attachments": {},
   "cell_type": "markdown",
   "metadata": {},
   "source": [
    "Série 7: apareceu como a que mais contribui mais vezes e como a que menso contribui menos vezes\n",
    "Série 8: outra boa opção\n",
    "\n",
    "Outra opção seria Série 7 e série 0"
   ]
  },
  {
   "cell_type": "code",
   "execution_count": 5,
   "metadata": {},
   "outputs": [],
   "source": [
    "train_data: np.array = scipy.io.arff.loadarff(\"../../data/Tiselac/Tiselac_TRAIN.arff\")\n",
    "train_data = train_data[0]"
   ]
  },
  {
   "cell_type": "code",
   "execution_count": 26,
   "metadata": {},
   "outputs": [
    {
     "data": {
      "text/plain": [
       "(81714, 10, 23)"
      ]
     },
     "execution_count": 26,
     "metadata": {},
     "output_type": "execute_result"
    }
   ],
   "source": [
    "X_train = np.array([np.array(e[0]) for e in train_data])\n",
    "X_train = np.array(X_train.tolist(), dtype=np.float_)\n",
    "X_train.shape"
   ]
  },
  {
   "cell_type": "code",
   "execution_count": 27,
   "metadata": {},
   "outputs": [
    {
     "data": {
      "text/plain": [
       "array([[  26.,   26.,   26.,   26.,   26.,   26.,   35.,   45.,   38.,\n",
       "          31.,   28.,   31.,   31.,   32.,   33.,   27.,   21.,   15.,\n",
       "           9.,    9.,    9.,    9.,    9.],\n",
       "       [  26.,   26.,   26.,   26.,   26.,   26.,   37.,   48.,   41.,\n",
       "          35.,   34.,   33.,   35.,   38.,   41.,   34.,   28.,   22.,\n",
       "          16.,   16.,   16.,   16.,   16.],\n",
       "       [  35.,   35.,   35.,   35.,   35.,   35.,   62.,   90.,   84.,\n",
       "          79.,   83.,   81.,   84.,   87.,   90.,   82.,   75.,   68.,\n",
       "          61.,   61.,   61.,   61.,   61.],\n",
       "       [  42.,   42.,   42.,   42.,   42.,   42.,   50.,   59.,   53.,\n",
       "          48.,   46.,   49.,   57.,   65.,   74.,   67.,   61.,   55.,\n",
       "          49.,   49.,   49.,   49.,   49.],\n",
       "       [  75.,   75.,   75.,   75.,   75.,   75.,  234.,  394.,  409.,\n",
       "         424.,  443.,  436.,  425.,  414.,  404.,  395.,  387.,  379.,\n",
       "         371.,  371.,  371.,  371.,  371.],\n",
       "       [  98.,   98.,   98.,   98.,   98.,   98.,  148.,  198.,  200.,\n",
       "         202.,  206.,  204.,  213.,  222.,  232.,  235.,  238.,  241.,\n",
       "         245.,  245.,  245.,  245.,  245.],\n",
       "       [  51.,   51.,   51.,   51.,   51.,   51.,   73.,   96.,   96.,\n",
       "          96.,   96.,   99.,  107.,  116.,  125.,  125.,  126.,  127.,\n",
       "         128.,  128.,  128.,  128.,  128.],\n",
       "       [ 282.,  282.,  282.,  282.,  282.,  282.,  647.,  739.,  770.,\n",
       "         796.,  811.,  797.,  763.,  728.,  690.,  709.,  727.,  746.,\n",
       "         766.,  766.,  766.,  766.,  766.],\n",
       "       [ 132.,  132.,  132.,  132.,  132.,  132., -225., -331., -343.,\n",
       "        -354., -365., -362., -332., -301., -270., -253., -238., -222.,\n",
       "        -204., -204., -204., -204., -204.],\n",
       "       [ 148.,  148.,  148.,  148.,  148.,  148.,  301.,  468.,  479.,\n",
       "         490.,  508.,  502.,  499.,  498.,  499.,  489.,  482.,  475.,\n",
       "         469.,  469.,  469.,  469.,  469.]])"
      ]
     },
     "execution_count": 27,
     "metadata": {},
     "output_type": "execute_result"
    }
   ],
   "source": [
    "X_train[0]"
   ]
  },
  {
   "cell_type": "code",
   "execution_count": 28,
   "metadata": {},
   "outputs": [],
   "source": [
    "X_train = np.delete(X_train, np.setdiff1d(np.arange(X_train.shape[1]), [7, 8, 9]), axis=1)\n"
   ]
  },
  {
   "cell_type": "code",
   "execution_count": 33,
   "metadata": {},
   "outputs": [
    {
     "data": {
      "text/plain": [
       "3"
      ]
     },
     "execution_count": 33,
     "metadata": {},
     "output_type": "execute_result"
    }
   ],
   "source": [
    "X_train.shape[1]"
   ]
  }
 ],
 "metadata": {
  "kernelspec": {
   "display_name": "mestrado",
   "language": "python",
   "name": "python3"
  },
  "language_info": {
   "codemirror_mode": {
    "name": "ipython",
    "version": 3
   },
   "file_extension": ".py",
   "mimetype": "text/x-python",
   "name": "python",
   "nbconvert_exporter": "python",
   "pygments_lexer": "ipython3",
   "version": "3.11.3"
  },
  "orig_nbformat": 4
 },
 "nbformat": 4,
 "nbformat_minor": 2
}
