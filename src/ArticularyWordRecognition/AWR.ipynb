{
 "cells": [
  {
   "cell_type": "code",
   "execution_count": 2,
   "metadata": {},
   "outputs": [
    {
     "data": {
      "text/plain": [
       "[[0.27, 0.21, 0.16, 0.09, 0.06, 0.05, 0.05, 0.11, 0.0],\n",
       " [0.03, 0.1, 0.11, 0.14, 0.13, 0.15, 0.12, 0.2, 0.02],\n",
       " [0.06, 0.2, 0.22, 0.13, 0.13, 0.09, 0.05, 0.11, 0.01],\n",
       " [0.07, 0.11, 0.09, 0.12, 0.12, 0.12, 0.13, 0.14, 0.09],\n",
       " [0.01, 0.03, 0.04, 0.07, 0.07, 0.08, 0.17, 0.33, 0.18],\n",
       " [0.0, 0.01, 0.03, 0.05, 0.1, 0.16, 0.15, 0.11, 0.39],\n",
       " [0.54, 0.18, 0.09, 0.05, 0.04, 0.02, 0.04, 0.0, 0.02],\n",
       " [0.01, 0.01, 0.06, 0.12, 0.16, 0.2, 0.21, 0.0, 0.22],\n",
       " [0.01, 0.15, 0.19, 0.21, 0.18, 0.12, 0.07, 0.0, 0.07]]"
      ]
     },
     "execution_count": 2,
     "metadata": {},
     "output_type": "execute_result"
    }
   ],
   "source": [
    "import h5sparse\n",
    "import numpy as np\n",
    "ranking: np.array = np.zeros((9, 9), dtype=np.int_)\n",
    "range_9: np.array = np.arange(9)\n",
    "with h5sparse.File(\"../../ArticularyWordRecognition.hdf5\", \"r\") as f:\n",
    "    less_contribute_lists = f[\"diversity_rank\"]\n",
    "    for i in range(len(less_contribute_lists)):\n",
    "        ranking[less_contribute_lists[str(i)][()], range_9] += 1\n",
    "(np.round(ranking / 275, 2)).tolist()"
   ]
  }
 ],
 "metadata": {
  "kernelspec": {
   "display_name": "mestrado",
   "language": "python",
   "name": "python3"
  },
  "language_info": {
   "codemirror_mode": {
    "name": "ipython",
    "version": 3
   },
   "file_extension": ".py",
   "mimetype": "text/x-python",
   "name": "python",
   "nbconvert_exporter": "python",
   "pygments_lexer": "ipython3",
   "version": "3.11.3"
  },
  "orig_nbformat": 4
 },
 "nbformat": 4,
 "nbformat_minor": 2
}
