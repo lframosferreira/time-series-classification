{
 "cells": [
  {
   "cell_type": "code",
   "execution_count": 3,
   "metadata": {},
   "outputs": [],
   "source": [
    "import numpy as np\n",
    "import pandas as pd\n",
    "import pickle\n",
    "import time\n",
    "import scipy\n",
    "from sklearn.metrics import confusion_matrix, f1_score, recall_score, precision_score\n",
    "from sktime.transformations.panel.rocket import Rocket\n",
    "from xgboost import XGBClassifier\n",
    "from sklearn.preprocessing import LabelEncoder\n",
    "le = LabelEncoder()"
   ]
  },
  {
   "cell_type": "code",
   "execution_count": 4,
   "metadata": {},
   "outputs": [],
   "source": [
    "dimensions_to_use = None\n",
    "train_data: np.array = scipy.io.arff.loadarff(f\"/scratch/luisfeliperamos/time-series-classification/data/NATOPS/NATOPS_TRAIN.arff\")\n",
    "train_data = train_data[0]\n",
    "\n",
    "test_data: np.array = scipy.io.arff.loadarff(f\"/scratch/luisfeliperamos/time-series-classification/data/NATOPS/NATOPS_TEST.arff\")\n",
    "test_data = test_data[0]\n",
    "\n",
    "X_train = np.array([np.array(e[0]) for e in train_data])\n",
    "X_train = np.array(X_train.tolist(), dtype=np.float_)\n",
    "\n",
    "if dimensions_to_use is not None:\n",
    "    X_train = np.delete(X_train, np.setdiff1d(np.arange(X_train.shape[1]), dimensions_to_use), axis=1)\n",
    "\n",
    "y_train = np.array([int(float(e[1])) for e in train_data])\n",
    "y_train = le.fit_transform(y_train)\n",
    "\n",
    "X_test = np.array([np.array(e[0]) for e in test_data])\n",
    "X_test = np.array(X_test.tolist(), dtype=np.float_)\n",
    "\n",
    "if dimensions_to_use is not None:\n",
    "    X_test = np.delete(X_test, np.setdiff1d(np.arange(X_test.shape[1]), dimensions_to_use), axis=1)"
   ]
  },
  {
   "cell_type": "code",
   "execution_count": 7,
   "metadata": {},
   "outputs": [
    {
     "data": {
      "text/plain": [
       "[0,\n",
       " 1,\n",
       " 2,\n",
       " 3,\n",
       " 4,\n",
       " 5,\n",
       " 6,\n",
       " 7,\n",
       " 8,\n",
       " 9,\n",
       " 10,\n",
       " 11,\n",
       " 12,\n",
       " 13,\n",
       " 14,\n",
       " 15,\n",
       " 16,\n",
       " 17,\n",
       " 18,\n",
       " 19,\n",
       " 20,\n",
       " 21,\n",
       " 22,\n",
       " 23]"
      ]
     },
     "execution_count": 7,
     "metadata": {},
     "output_type": "execute_result"
    }
   ],
   "source": [
    "list(range(X_train.shape[1]))"
   ]
  }
 ],
 "metadata": {
  "kernelspec": {
   "display_name": "mestrado",
   "language": "python",
   "name": "python3"
  },
  "language_info": {
   "codemirror_mode": {
    "name": "ipython",
    "version": 3
   },
   "file_extension": ".py",
   "mimetype": "text/x-python",
   "name": "python",
   "nbconvert_exporter": "python",
   "pygments_lexer": "ipython3",
   "version": "3.11.3"
  },
  "orig_nbformat": 4
 },
 "nbformat": 4,
 "nbformat_minor": 2
}
