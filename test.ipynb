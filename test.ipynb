{
 "cells": [
  {
   "cell_type": "code",
   "execution_count": 29,
   "metadata": {},
   "outputs": [],
   "source": [
    "import numpy as np\n",
    "import pandas as pd\n",
    "from scipy.io.arff import loadarff \n",
    "import pickle\n",
    "import ts2vg\n",
    "import scipy\n",
    "import sys\n",
    "from diversity_measure import *"
   ]
  },
  {
   "cell_type": "code",
   "execution_count": 30,
   "metadata": {},
   "outputs": [],
   "source": [
    "raw_data = loadarff(\"/home/lfrf/ic/time-series-classification/data/LSST/LSST_TRAIN.arff\")\n",
    "df: pd.DataFrame = pd.DataFrame(raw_data[0])"
   ]
  },
  {
   "cell_type": "code",
   "execution_count": 31,
   "metadata": {},
   "outputs": [],
   "source": [
    "def save_pickle(data: dict, path: str) -> None:\n",
    "    # open a file, where you ant to store the data\n",
    "    with open(path, 'wb') as file:\n",
    "        pickle.dump(data, file)"
   ]
  },
  {
   "cell_type": "code",
   "execution_count": 32,
   "metadata": {},
   "outputs": [],
   "source": [
    "# Creating graphs and calculating layer differences (only first 5 rows)\n",
    "aux_df: pd.DataFrame = df.head(20)\n",
    "visibility_graphs: np.array = np.zeros((20, 6, 36, 36))\n",
    "for i in np.arange(len(aux_df[\"LSST_TRAIN\"])):\n",
    "    for j in np.arange(len(aux_df[\"LSST_TRAIN\"].iloc[i])):\n",
    "        ts = aux_df[\"LSST_TRAIN\"].iloc[i][j]\n",
    "        aux_ts = np.array([x for x in ts]).astype(np.float_) # gambiarra\n",
    "        graph: np.array = ts2vg.NaturalVG().build(aux_ts).adjacency_matrix()\n",
    "        visibility_graphs[i][j] = graph"
   ]
  },
  {
   "cell_type": "code",
   "execution_count": 33,
   "metadata": {},
   "outputs": [
    {
     "name": "stdout",
     "output_type": "stream",
     "text": [
      "[4 2 1 5 0 3]\n",
      "[4 3 5 2 0 1]\n",
      "[4 2 3 1 0 5]\n",
      "[4 3 1 2 0 5]\n",
      "[1 2 5 4 0 3]\n",
      "[4 3 5 1 0 2]\n",
      "[5 4 3 1 0 2]\n",
      "[4 1 2 5 0 3]\n",
      "[1 2 3 4 0 5]\n",
      "[3 4 1 2 0 5]\n",
      "[3 5 4 0 1 2]\n",
      "[3 1 2 0 4 5]\n",
      "[1 4 2 3 0 5]\n",
      "[3 4 2 1 0 5]\n",
      "[2 1 4 5 0 3]\n",
      "[2 3 5 4 0 1]\n",
      "[0 1 5 2 3 4]\n",
      "[4 3 1 5 0 2]\n",
      "[3 4 1 2 0 5]\n",
      "[4 3 1 5 0 2]\n"
     ]
    }
   ],
   "source": [
    "ranking: np.array = np.zeros((6, 6))\n",
    "for i in range(visibility_graphs.shape[0]):\n",
    "    node_distributions: list = []\n",
    "    transition_matrices: list = []\n",
    "    for j in range(visibility_graphs[i].shape[0]):\n",
    "        graph: np.array = visibility_graphs[i][j]\n",
    "        node_dist: np.array = node_distribution(graph)\n",
    "        node_distributions.append(node_dist)\n",
    "        trans_mat: np.array = transition_matrix(graph)\n",
    "        transition_matrices.append(trans_mat)\n",
    "    less_contribute_list: np.array = less_contribute(node_distributions, transition_matrices)\n",
    "    print(less_contribute_list)\n",
    "        \n",
    "        "
   ]
  }
 ],
 "metadata": {
  "kernelspec": {
   "display_name": "ts_bakeoff_poc",
   "language": "python",
   "name": "python3"
  },
  "language_info": {
   "codemirror_mode": {
    "name": "ipython",
    "version": 3
   },
   "file_extension": ".py",
   "mimetype": "text/x-python",
   "name": "python",
   "nbconvert_exporter": "python",
   "pygments_lexer": "ipython3",
   "version": "3.11.3"
  },
  "orig_nbformat": 4
 },
 "nbformat": 4,
 "nbformat_minor": 2
}
