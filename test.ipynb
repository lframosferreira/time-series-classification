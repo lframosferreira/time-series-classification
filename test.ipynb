{
 "cells": [
  {
   "cell_type": "code",
   "execution_count": 4,
   "metadata": {},
   "outputs": [],
   "source": [
    "import numpy as np\n",
    "import pandas as pd\n",
    "from scipy.io.arff import loadarff \n",
    "import pickle\n",
    "import ts2vg\n",
    "import scipy\n",
    "import sys\n",
    "from diversity_measure import *"
   ]
  },
  {
   "cell_type": "code",
   "execution_count": 6,
   "metadata": {},
   "outputs": [
    {
     "data": {
      "text/html": [
       "<div>\n",
       "<style scoped>\n",
       "    .dataframe tbody tr th:only-of-type {\n",
       "        vertical-align: middle;\n",
       "    }\n",
       "\n",
       "    .dataframe tbody tr th {\n",
       "        vertical-align: top;\n",
       "    }\n",
       "\n",
       "    .dataframe thead th {\n",
       "        text-align: right;\n",
       "    }\n",
       "</style>\n",
       "<table border=\"1\" class=\"dataframe\">\n",
       "  <thead>\n",
       "    <tr style=\"text-align: right;\">\n",
       "      <th></th>\n",
       "      <th>LSST_TRAIN</th>\n",
       "      <th>target</th>\n",
       "    </tr>\n",
       "  </thead>\n",
       "  <tbody>\n",
       "    <tr>\n",
       "      <th>0</th>\n",
       "      <td>[[17.597, 0.22974, -29.654, -59.21, -72.064, -...</td>\n",
       "      <td>b'6'</td>\n",
       "    </tr>\n",
       "    <tr>\n",
       "      <th>1</th>\n",
       "      <td>[[2.4209, 1.6847, 0.50692, -0.26783, -0.02287,...</td>\n",
       "      <td>b'6'</td>\n",
       "    </tr>\n",
       "    <tr>\n",
       "      <th>2</th>\n",
       "      <td>[[39.688, 163.99, 275.45, 300.36, 222.61, 98.1...</td>\n",
       "      <td>b'6'</td>\n",
       "    </tr>\n",
       "    <tr>\n",
       "      <th>3</th>\n",
       "      <td>[[1.6554, 10.357, 17.141, 15.575, 8.0169, 4.06...</td>\n",
       "      <td>b'6'</td>\n",
       "    </tr>\n",
       "    <tr>\n",
       "      <th>4</th>\n",
       "      <td>[[-15.139, -8.0405, -0.5869, 1.1502, -4.7361, ...</td>\n",
       "      <td>b'6'</td>\n",
       "    </tr>\n",
       "    <tr>\n",
       "      <th>...</th>\n",
       "      <td>...</td>\n",
       "      <td>...</td>\n",
       "    </tr>\n",
       "    <tr>\n",
       "      <th>2454</th>\n",
       "      <td>[[16.989, -8.2046, -35.531, -43.974, -25.709, ...</td>\n",
       "      <td>b'95'</td>\n",
       "    </tr>\n",
       "    <tr>\n",
       "      <th>2455</th>\n",
       "      <td>[[8.9566, 4.2787, 1.0259, 5.5224, 15.246, 20.9...</td>\n",
       "      <td>b'95'</td>\n",
       "    </tr>\n",
       "    <tr>\n",
       "      <th>2456</th>\n",
       "      <td>[[503.12, 317.31, 242.74, 257.62, 115.73, 47.8...</td>\n",
       "      <td>b'95'</td>\n",
       "    </tr>\n",
       "    <tr>\n",
       "      <th>2457</th>\n",
       "      <td>[[17.756, 26.275, 31.817, 32.078, 26.981, 18.9...</td>\n",
       "      <td>b'95'</td>\n",
       "    </tr>\n",
       "    <tr>\n",
       "      <th>2458</th>\n",
       "      <td>[[1.0391, -3.9896, 0.18169, 2.2817, -3.5612, 0...</td>\n",
       "      <td>b'95'</td>\n",
       "    </tr>\n",
       "  </tbody>\n",
       "</table>\n",
       "<p>2459 rows × 2 columns</p>\n",
       "</div>"
      ],
      "text/plain": [
       "                                             LSST_TRAIN target\n",
       "0     [[17.597, 0.22974, -29.654, -59.21, -72.064, -...   b'6'\n",
       "1     [[2.4209, 1.6847, 0.50692, -0.26783, -0.02287,...   b'6'\n",
       "2     [[39.688, 163.99, 275.45, 300.36, 222.61, 98.1...   b'6'\n",
       "3     [[1.6554, 10.357, 17.141, 15.575, 8.0169, 4.06...   b'6'\n",
       "4     [[-15.139, -8.0405, -0.5869, 1.1502, -4.7361, ...   b'6'\n",
       "...                                                 ...    ...\n",
       "2454  [[16.989, -8.2046, -35.531, -43.974, -25.709, ...  b'95'\n",
       "2455  [[8.9566, 4.2787, 1.0259, 5.5224, 15.246, 20.9...  b'95'\n",
       "2456  [[503.12, 317.31, 242.74, 257.62, 115.73, 47.8...  b'95'\n",
       "2457  [[17.756, 26.275, 31.817, 32.078, 26.981, 18.9...  b'95'\n",
       "2458  [[1.0391, -3.9896, 0.18169, 2.2817, -3.5612, 0...  b'95'\n",
       "\n",
       "[2459 rows x 2 columns]"
      ]
     },
     "execution_count": 6,
     "metadata": {},
     "output_type": "execute_result"
    }
   ],
   "source": [
    "raw_data = loadarff(\"/home/lfrf/ic/time-series-classification/data/LSST/LSST_TRAIN.arff\")\n",
    "df: pd.DataFrame = pd.DataFrame(raw_data[0])\n",
    "df"
   ]
  },
  {
   "cell_type": "code",
   "execution_count": 7,
   "metadata": {},
   "outputs": [],
   "source": [
    "from sklearn.metrics import f1_score\n",
    "from sklearn.model_selection import train_test_split\n",
    "from sktime.classification.kernel_based import RocketClassifier\n",
    "from sktime.datasets import load_basic_motions\n",
    "\n",
    "def save_pickle(data: dict, path: str) -> None:\n",
    "    # open a file, where you ant to store the data\n",
    "    with open(path, 'wb') as file:\n",
    "        pickle.dump(data, file)"
   ]
  },
  {
   "cell_type": "code",
   "execution_count": 12,
   "metadata": {},
   "outputs": [],
   "source": [
    "# Creating graphs and calculating layer differences (only first 5 rows)\n",
    "aux_df: pd.DataFrame = df.head(5)\n",
    "visibility_graphs: np.array = np.zeros((5, 6, 36, 36))\n",
    "for i in np.arange(len(aux_df[\"LSST_TRAIN\"])):\n",
    "    for j in np.arange(len(aux_df[\"LSST_TRAIN\"].iloc[i])):\n",
    "        ts = aux_df[\"LSST_TRAIN\"].iloc[i][j]\n",
    "        aux_ts = np.array([x for x in ts]).astype(np.float_) # gambiarra\n",
    "        graph: np.array = ts2vg.NaturalVG().build(aux_ts).adjacency_matrix()\n",
    "        visibility_graphs[i][j] = graph"
   ]
  },
  {
   "cell_type": "code",
   "execution_count": 10,
   "metadata": {},
   "outputs": [
    {
     "data": {
      "text/plain": [
       "array([1, 2, 5, 4, 0, 3])"
      ]
     },
     "execution_count": 10,
     "metadata": {},
     "output_type": "execute_result"
    }
   ],
   "source": [
    "ranking: np.array = np.zeros((6, 6))\n",
    "for i in range(visibility_graphs.shape[0]):\n",
    "    node_distributions: list = []\n",
    "    transition_matrices: list = []\n",
    "    for j in range(visibility_graphs[i].shape[0]):\n",
    "        graph: np.array = visibility_graphs[i][j]\n",
    "        node_dist: np.array = node_distribution(graph)\n",
    "        node_distributions.append(node_dist)\n",
    "        trans_mat: np.array = transition_matrix(graph)\n",
    "        transition_matrices.append(trans_mat)\n",
    "    less_contribute: np.array = diversidade(node_distributions, transition_matrices)[1]\n",
    "less_contribute\n",
    "        \n",
    "        "
   ]
  }
 ],
 "metadata": {
  "kernelspec": {
   "display_name": "ts_bakeoff_poc",
   "language": "python",
   "name": "python3"
  },
  "language_info": {
   "codemirror_mode": {
    "name": "ipython",
    "version": 3
   },
   "file_extension": ".py",
   "mimetype": "text/x-python",
   "name": "python",
   "nbconvert_exporter": "python",
   "pygments_lexer": "ipython3",
   "version": "3.11.3"
  },
  "orig_nbformat": 4
 },
 "nbformat": 4,
 "nbformat_minor": 2
}
